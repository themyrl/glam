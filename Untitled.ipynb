{
 "cells": [
  {
   "cell_type": "code",
   "execution_count": 1,
   "id": "8a964a08-7153-45d4-8cb6-4a0db6e1eb94",
   "metadata": {},
   "outputs": [],
   "source": [
    "import os\n",
    "import sys"
   ]
  },
  {
   "cell_type": "code",
   "execution_count": 11,
   "id": "c08b406b-12e4-4717-a35a-07bd2711960a",
   "metadata": {},
   "outputs": [
    {
     "name": "stdout",
     "output_type": "stream",
     "text": [
      "./configs/glam_swin_upernet/zz_upernet_swin_gtv8_g5_tiny_patch4_window7_512x512_160k_ade20k.py \n",
      " ./configs/glam_swin_upernet/glam_swin_upernet_g5_tiny_patch4_window7_512x512_160k_ade20k.py \n",
      "\n",
      "\n",
      "./configs/glam_swin_upernet/zz.upernet.swin.gtv8.g10.base.patch4.window7.1024x1024.160k.cityscapes.py \n",
      " ./configs/glam_swin_upernet/glam_swin_upernet_g10_base_patch4_window7_1024x1024_160k_cityscapes.py \n",
      "\n",
      "\n",
      "./configs/glam_swin_upernet/upernet_swin_gtv8_g10_tiny_patch4_window7_769x769_160k_cityscapes_b16.py \n",
      " ./configs/glam_swin_upernet/glam_swin_upernet_g10_tiny_patch4_window7_769x769_160k_cityscapes_b16.py \n",
      "\n",
      "\n",
      "./configs/glam_swin_upernet/zz.upernet.swin.gtv8.g10.base.patch4.window7.1024x1024.160k.cityscapes.bs2.py \n",
      " ./configs/glam_swin_upernet/glam_swin_upernet_g10_base_patch4_window7_1024x1024_160k_cityscapes_bs2.py \n",
      "\n",
      "\n",
      "./configs/glam_swin_upernet/zz_upernet_swin_gtv8_g10_base_patch4_window7_512x512_160k_ade20k.py \n",
      " ./configs/glam_swin_upernet/glam_swin_upernet_g10_base_patch4_window7_512x512_160k_ade20k.py \n",
      "\n",
      "\n",
      "./configs/glam_swin_upernet/zz_upernet_swin_gtv8_g10_base_patch4_window7_769x769_160k_cityscapes.py \n",
      " ./configs/glam_swin_upernet/glam_swin_upernet_g10_base_patch4_window7_769x769_160k_cityscapes.py \n",
      "\n",
      "\n",
      "./configs/glam_swin_upernet/upernet_swin_gtv8_g10_tiny_patch4_window7_512x512_160k_ade20k_good.py \n",
      " ./configs/glam_swin_upernet/glam_swin_upernet_g10_tiny_patch4_window7_512x512_160k_ade20k.py \n",
      "\n",
      "\n",
      "./configs/glam_swin_upernet/zz.upernet.swin.gtv8.g10.tiny.patch4.window7.1024x1024.160k.cityscapes.bs2.py \n",
      " ./configs/glam_swin_upernet/glam_swin_upernet_g10_tiny_patch4_window7_1024x1024_160k_cityscapes_bs2.py \n",
      "\n",
      "\n",
      "./configs/glam_swin_upernet/upernet_swin_gtv8_g10_tiny_patch4_window7_512x512_160k_cityscapes_b16.py \n",
      " ./configs/glam_swin_upernet/glam_swin_upernet_g10_tiny_patch4_window7_512x512_160k_cityscapes_b16.py \n",
      "\n",
      "\n",
      "./configs/glam_swin_upernet/upernet_swin_gtv8_g10_tiny_patch4_window7_512x512_160k_cityscapes_b8.py \n",
      " ./configs/glam_swin_upernet/glam_swin_upernet_g10_tiny_patch4_window7_512x512_160k_cityscapes_b8.py \n",
      "\n",
      "\n",
      "./configs/glam_swin_upernet/zz_upernet_swin_gtv8_g10_small_patch4_window7_512x512_160k_ade20k.py \n",
      " ./configs/glam_swin_upernet/glam_swin_upernet_g10_small_patch4_window7_512x512_160k_ade20k.py \n",
      "\n",
      "\n",
      "./configs/glam_swin_upernet/zz_upernet_swin_gtv8_g15_tiny_patch4_window7_512x512_160k_ade20k.py \n",
      " ./configs/glam_swin_upernet/glam_swin_upernet_g15_tiny_patch4_window7_512x512_160k_ade20k.py \n",
      "\n",
      "\n",
      "./configs/glam_swin_upernet/upernet_swin_gtv8_g1_tiny_patch4_window7_512x512_160k_ade20k_good.py \n",
      " ./configs/glam_swin_upernet/glam_swin_upernet_g1_tiny_patch4_window7_512x512_160k_ade20k.py \n",
      "\n",
      "\n",
      "./configs/glam_swin_upernet/zz.upernet.swin.gtv8.g10.tiny.patch4.window7.769x769.160k.cityscapes.py \n",
      " ./configs/glam_swin_upernet/glam_swin_upernet_g10_tiny_patch4_window7_769x769_160k_cityscapes.py \n",
      "\n",
      "\n",
      "./configs/glam_swin_upernet/upernet_swin_gtv8_g5_tiny_patch4_window7_512x512_160k_ade20k.py \n",
      " ./configs/glam_swin_upernet/glam_swin_upernet_g5_tiny_patch4_window7_512x512_160k_ade20k.py \n",
      "\n",
      "\n"
     ]
    }
   ],
   "source": [
    "pth = \"./configs/glam_swin_upernet/\"\n",
    "\n",
    "for i in (os.listdir(pth)):\n",
    "    new_name = i.replace(\".\",\"_\").replace(\"z_\",\"\").replace(\"z\",\"\").replace(\"upernet_swin\", \"glam_swin_upernet\").replace(\"_good\",\"\").replace(\"_py\",\".py\").replace(\"_gtv8\",\"\")\n",
    "    print(os.path.join(pth, i), \"\\n\",os.path.join(pth, new_name), \"\\n\\n\")\n",
    "    os.rename(os.path.join(pth, i), os.path.join(pth, new_name))\n"
   ]
  },
  {
   "cell_type": "code",
   "execution_count": null,
   "id": "5c332beb-b9f3-476f-b946-6725fdd24cdf",
   "metadata": {},
   "outputs": [],
   "source": []
  },
  {
   "cell_type": "code",
   "execution_count": null,
   "id": "42243778-02b7-4f10-ac80-bd4136318108",
   "metadata": {},
   "outputs": [],
   "source": []
  },
  {
   "cell_type": "code",
   "execution_count": null,
   "id": "9750f275-0571-4452-ab57-cff268cd17b7",
   "metadata": {},
   "outputs": [],
   "source": []
  },
  {
   "cell_type": "code",
   "execution_count": null,
   "id": "82acb3b0-12d0-425d-95b3-07f62c7429c3",
   "metadata": {},
   "outputs": [],
   "source": []
  }
 ],
 "metadata": {
  "kernelspec": {
   "display_name": "Python 3 (ipykernel)",
   "language": "python",
   "name": "python3"
  },
  "language_info": {
   "codemirror_mode": {
    "name": "ipython",
    "version": 3
   },
   "file_extension": ".py",
   "mimetype": "text/x-python",
   "name": "python",
   "nbconvert_exporter": "python",
   "pygments_lexer": "ipython3",
   "version": "3.10.12"
  }
 },
 "nbformat": 4,
 "nbformat_minor": 5
}
